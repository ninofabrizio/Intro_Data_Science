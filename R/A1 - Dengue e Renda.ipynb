{
 "cells": [
  {
   "cell_type": "code",
   "execution_count": null,
   "metadata": {
    "collapsed": true
   },
   "outputs": [],
   "source": [
    "# Questão 1\n",
    "# Que perguntas vocês gostariam de responder? (o quê? quem? quando? onde? quanto? como? por quê? ...)\n",
    "#\n",
    "#########################################################################################################\n",
    "#\n",
    "# Quero descobrir os estados com maiores quantidades de incidências máximas de dengue entre os anos 2000 e 2008,\n",
    "# e que consequentemente podem tender a ser grandes focos da doença ao passar dos anos, para distribuir melhor\n",
    "# pequenas equipes que devem ser mandadas para procurar focos do mosquito proliferador da doença e para concientizar\n",
    "# a populção local das regiões destacadas. A pesquisa é feita para diminuir o máximo possível o número de gastos\n",
    "# e ter a melhor opção de combate à doença."
   ]
  },
  {
   "cell_type": "code",
   "execution_count": 3,
   "metadata": {
    "collapsed": false
   },
   "outputs": [
    {
     "data": {
      "text/html": [
       "<ol class=list-inline>\n",
       "\t<li>28</li>\n",
       "\t<li>20</li>\n",
       "</ol>\n"
      ],
      "text/latex": [
       "\\begin{enumerate*}\n",
       "\\item 28\n",
       "\\item 20\n",
       "\\end{enumerate*}\n"
      ],
      "text/markdown": [
       "1. 28\n",
       "2. 20\n",
       "\n",
       "\n"
      ],
      "text/plain": [
       "[1] 28 20"
      ]
     },
     "execution_count": 3,
     "metadata": {},
     "output_type": "execute_result"
    },
    {
     "data": {
      "text/html": [
       "<table>\n",
       "<thead><tr><th></th><th scope=col>UF</th><th scope=col>X1990</th><th scope=col>X1991</th><th scope=col>X1992</th><th scope=col>X1993</th><th scope=col>X1994</th><th scope=col>X1995</th><th scope=col>X1996</th><th scope=col>X1997</th><th scope=col>X1998</th><th scope=col>X1999</th><th scope=col>X2000</th><th scope=col>X2001</th><th scope=col>X2002</th><th scope=col>X2003</th><th scope=col>X2004</th><th scope=col>X2005</th><th scope=col>X2006</th><th scope=col>X2007</th><th scope=col>X2008</th></tr></thead>\n",
       "<tbody>\n",
       "\t<tr><th scope=row>1</th><td>Rondonia</td><td>NA</td><td>NA</td><td>NA</td><td>NA</td><td>NA</td><td>NA</td><td>NA</td><td>4.38</td><td>1.8</td><td>7.63</td><td>123.71</td><td>120.06</td><td>109.44</td><td>206.68</td><td>224.87</td><td>387.46</td><td>272.33</td><td>212.64</td><td>365.9</td></tr>\n",
       "\t<tr><th scope=row>2</th><td>Acre</td><td>NA</td><td>NA</td><td>NA</td><td>NA</td><td>NA</td><td>NA</td><td>NA</td><td>NA</td><td>NA</td><td>NA</td><td>267.97</td><td>354.98</td><td>151.97</td><td>161.51</td><td>727.66</td><td>345.53</td><td>39.61</td><td>75.06</td><td>313.64</td></tr>\n",
       "\t<tr><th scope=row>3</th><td>Amazonas</td><td>NA</td><td>NA</td><td>NA</td><td>NA</td><td>NA</td><td>NA</td><td>NA</td><td>NA</td><td>551.2</td><td>201.79</td><td>224.67</td><td>662.66</td><td>75.8</td><td>132.36</td><td>29.02</td><td>31.49</td><td>19.33</td><td>61.37</td><td>222.77</td></tr>\n",
       "\t<tr><th scope=row>4</th><td>Roraima</td><td>NA</td><td>NA</td><td>NA</td><td>NA</td><td>NA</td><td>NA</td><td>165.5</td><td>149.31</td><td>98.96</td><td>719.71</td><td>1265.12</td><td>1140.53</td><td>351.14</td><td>1390.14</td><td>153.2</td><td>602.84</td><td>251.89</td><td>212.15</td><td>1207.9</td></tr>\n",
       "\t<tr><th scope=row>5</th><td>Para</td><td>NA</td><td>NA</td><td>NA</td><td>NA</td><td>NA</td><td>0.51</td><td>5.82</td><td>369.46</td><td>189.55</td><td>49.62</td><td>122.7</td><td>264.13</td><td>178.29</td><td>148.35</td><td>84.63</td><td>118.35</td><td>92.46</td><td>199.51</td><td>207.57</td></tr>\n",
       "\t<tr><th scope=row>6</th><td>Amapa</td><td>NA</td><td>NA</td><td>NA</td><td>NA</td><td>NA</td><td>NA</td><td>NA</td><td>NA</td><td>6.18</td><td>0.91</td><td>NA</td><td>642.17</td><td>166.11</td><td>755.37</td><td>458</td><td>430.55</td><td>300.3</td><td>562</td><td>194.89</td></tr>\n",
       "</tbody>\n",
       "</table>\n"
      ],
      "text/latex": [
       "\\begin{tabular}{r|llllllllllllllllllll}\n",
       "  & UF & X1990 & X1991 & X1992 & X1993 & X1994 & X1995 & X1996 & X1997 & X1998 & X1999 & X2000 & X2001 & X2002 & X2003 & X2004 & X2005 & X2006 & X2007 & X2008\\\\\n",
       "\\hline\n",
       "\t1 & Rondonia & NA & NA & NA & NA & NA & NA & NA & 4.38 & 1.8 & 7.63 & 123.71 & 120.06 & 109.44 & 206.68 & 224.87 & 387.46 & 272.33 & 212.64 & 365.9\\\\\n",
       "\t2 & Acre & NA & NA & NA & NA & NA & NA & NA & NA & NA & NA & 267.97 & 354.98 & 151.97 & 161.51 & 727.66 & 345.53 & 39.61 & 75.06 & 313.64\\\\\n",
       "\t3 & Amazonas & NA & NA & NA & NA & NA & NA & NA & NA & 551.2 & 201.79 & 224.67 & 662.66 & 75.8 & 132.36 & 29.02 & 31.49 & 19.33 & 61.37 & 222.77\\\\\n",
       "\t4 & Roraima & NA & NA & NA & NA & NA & NA & 165.5 & 149.31 & 98.96 & 719.71 & 1265.12 & 1140.53 & 351.14 & 1390.14 & 153.2 & 602.84 & 251.89 & 212.15 & 1207.9\\\\\n",
       "\t5 & Para & NA & NA & NA & NA & NA & 0.51 & 5.82 & 369.46 & 189.55 & 49.62 & 122.7 & 264.13 & 178.29 & 148.35 & 84.63 & 118.35 & 92.46 & 199.51 & 207.57\\\\\n",
       "\t6 & Amapa & NA & NA & NA & NA & NA & NA & NA & NA & 6.18 & 0.91 & NA & 642.17 & 166.11 & 755.37 & 458 & 430.55 & 300.3 & 562 & 194.89\\\\\n",
       "\\end{tabular}\n"
      ],
      "text/plain": [
       "        UF X1990 X1991 X1992 X1993 X1994 X1995  X1996  X1997  X1998  X1999\n",
       "1 Rondonia    NA    NA    NA    NA    NA    NA     NA   4.38   1.80   7.63\n",
       "2     Acre    NA    NA    NA    NA    NA    NA     NA     NA     NA     NA\n",
       "3 Amazonas    NA    NA    NA    NA    NA    NA     NA     NA 551.20 201.79\n",
       "4  Roraima    NA    NA    NA    NA    NA    NA 165.50 149.31  98.96 719.71\n",
       "5     Para    NA    NA    NA    NA    NA  0.51   5.82 369.46 189.55  49.62\n",
       "6    Amapa    NA    NA    NA    NA    NA    NA     NA     NA   6.18   0.91\n",
       "    X2000   X2001  X2002   X2003  X2004  X2005  X2006  X2007   X2008\n",
       "1  123.71  120.06 109.44  206.68 224.87 387.46 272.33 212.64  365.90\n",
       "2  267.97  354.98 151.97  161.51 727.66 345.53  39.61  75.06  313.64\n",
       "3  224.67  662.66  75.80  132.36  29.02  31.49  19.33  61.37  222.77\n",
       "4 1265.12 1140.53 351.14 1390.14 153.20 602.84 251.89 212.15 1207.90\n",
       "5  122.70  264.13 178.29  148.35  84.63 118.35  92.46 199.51  207.57\n",
       "6      NA  642.17 166.11  755.37 458.00 430.55 300.30 562.00  194.89"
      ]
     },
     "execution_count": 3,
     "metadata": {},
     "output_type": "execute_result"
    },
    {
     "data": {
      "text/html": [
       "<ol class=list-inline>\n",
       "\t<li>Rondonia</li>\n",
       "\t<li>Acre</li>\n",
       "\t<li>Amazonas</li>\n",
       "\t<li>Roraima</li>\n",
       "\t<li>Para</li>\n",
       "\t<li>Amapa</li>\n",
       "\t<li>Tocantins</li>\n",
       "\t<li>Maranhao</li>\n",
       "\t<li>Piaui</li>\n",
       "\t<li>Ceara</li>\n",
       "\t<li>Rio Grande do Norte</li>\n",
       "\t<li>Paraiba</li>\n",
       "\t<li>Pernambuco</li>\n",
       "\t<li>Alagoas</li>\n",
       "\t<li>Sergipe</li>\n",
       "\t<li>Bahia</li>\n",
       "\t<li>Minas Gerais</li>\n",
       "\t<li>Espirito Santo</li>\n",
       "\t<li>Rio de Janeiro</li>\n",
       "\t<li>Sao Paulo</li>\n",
       "\t<li>Parana</li>\n",
       "\t<li>Santa Catarina</li>\n",
       "\t<li>Rio Grande do Sul</li>\n",
       "\t<li>Mato Grosso do Sul</li>\n",
       "\t<li>Mato Grosso</li>\n",
       "\t<li>Goias</li>\n",
       "\t<li>Distrito Federal</li>\n",
       "\t<li>Total</li>\n",
       "</ol>\n"
      ],
      "text/latex": [
       "\\begin{enumerate*}\n",
       "\\item Rondonia\n",
       "\\item Acre\n",
       "\\item Amazonas\n",
       "\\item Roraima\n",
       "\\item Para\n",
       "\\item Amapa\n",
       "\\item Tocantins\n",
       "\\item Maranhao\n",
       "\\item Piaui\n",
       "\\item Ceara\n",
       "\\item Rio Grande do Norte\n",
       "\\item Paraiba\n",
       "\\item Pernambuco\n",
       "\\item Alagoas\n",
       "\\item Sergipe\n",
       "\\item Bahia\n",
       "\\item Minas Gerais\n",
       "\\item Espirito Santo\n",
       "\\item Rio de Janeiro\n",
       "\\item Sao Paulo\n",
       "\\item Parana\n",
       "\\item Santa Catarina\n",
       "\\item Rio Grande do Sul\n",
       "\\item Mato Grosso do Sul\n",
       "\\item Mato Grosso\n",
       "\\item Goias\n",
       "\\item Distrito Federal\n",
       "\\item Total\n",
       "\\end{enumerate*}\n"
      ],
      "text/markdown": [
       "1. Rondonia\n",
       "2. Acre\n",
       "3. Amazonas\n",
       "4. Roraima\n",
       "5. Para\n",
       "6. Amapa\n",
       "7. Tocantins\n",
       "8. Maranhao\n",
       "9. Piaui\n",
       "10. Ceara\n",
       "11. Rio Grande do Norte\n",
       "12. Paraiba\n",
       "13. Pernambuco\n",
       "14. Alagoas\n",
       "15. Sergipe\n",
       "16. Bahia\n",
       "17. Minas Gerais\n",
       "18. Espirito Santo\n",
       "19. Rio de Janeiro\n",
       "20. Sao Paulo\n",
       "21. Parana\n",
       "22. Santa Catarina\n",
       "23. Rio Grande do Sul\n",
       "24. Mato Grosso do Sul\n",
       "25. Mato Grosso\n",
       "26. Goias\n",
       "27. Distrito Federal\n",
       "28. Total\n",
       "\n",
       "\n"
      ],
      "text/plain": [
       " [1] Rondonia            Acre                Amazonas           \n",
       " [4] Roraima             Para                Amapa              \n",
       " [7] Tocantins           Maranhao            Piaui              \n",
       "[10] Ceara               Rio Grande do Norte Paraiba            \n",
       "[13] Pernambuco          Alagoas             Sergipe            \n",
       "[16] Bahia               Minas Gerais        Espirito Santo     \n",
       "[19] Rio de Janeiro      Sao Paulo           Parana             \n",
       "[22] Santa Catarina      Rio Grande do Sul   Mato Grosso do Sul \n",
       "[25] Mato Grosso         Goias               Distrito Federal   \n",
       "[28] Total              \n",
       "28 Levels: Acre Alagoas Amapa Amazonas Bahia Ceara ... Total"
      ]
     },
     "execution_count": 3,
     "metadata": {},
     "output_type": "execute_result"
    }
   ],
   "source": [
    "# Puxando os dados do arquivo\n",
    "dengueDados <- read.csv(\"data/dengueUF.csv\", dec=\",\", na.strings=\"-\")\n",
    "dim(dengueDados)\n",
    "head(dengueDados)\n",
    "unique(dengueDados$UF)"
   ]
  },
  {
   "cell_type": "code",
   "execution_count": 4,
   "metadata": {
    "collapsed": false,
    "scrolled": false
   },
   "outputs": [
    {
     "data": {
      "text/html": [
       "<ol class=list-inline>\n",
       "\t<li>27</li>\n",
       "\t<li>10</li>\n",
       "</ol>\n"
      ],
      "text/latex": [
       "\\begin{enumerate*}\n",
       "\\item 27\n",
       "\\item 10\n",
       "\\end{enumerate*}\n"
      ],
      "text/markdown": [
       "1. 27\n",
       "2. 10\n",
       "\n",
       "\n"
      ],
      "text/plain": [
       "[1] 27 10"
      ]
     },
     "execution_count": 4,
     "metadata": {},
     "output_type": "execute_result"
    },
    {
     "data": {
      "text/html": [
       "<table>\n",
       "<thead><tr><th></th><th scope=col>UF</th><th scope=col>X2000</th><th scope=col>X2001</th><th scope=col>X2002</th><th scope=col>X2003</th><th scope=col>X2004</th><th scope=col>X2005</th><th scope=col>X2006</th><th scope=col>X2007</th><th scope=col>X2008</th></tr></thead>\n",
       "<tbody>\n",
       "\t<tr><th scope=row>1</th><td>Acre</td><td>267.97</td><td>354.98</td><td>151.97</td><td>161.51</td><td>727.66</td><td>345.53</td><td>39.61</td><td>75.06</td><td>313.64</td></tr>\n",
       "\t<tr><th scope=row>2</th><td>Alagoas</td><td>22.78</td><td>70.34</td><td>259.01</td><td>209.04</td><td>150.82</td><td>88.66</td><td>103.88</td><td>344.34</td><td>418.38</td></tr>\n",
       "\t<tr><th scope=row>3</th><td>Amapa</td><td>NA</td><td>642.17</td><td>166.11</td><td>755.37</td><td>458</td><td>430.55</td><td>300.3</td><td>562</td><td>194.89</td></tr>\n",
       "\t<tr><th scope=row>4</th><td>Amazonas</td><td>224.67</td><td>662.66</td><td>75.8</td><td>132.36</td><td>29.02</td><td>31.49</td><td>19.33</td><td>61.37</td><td>222.77</td></tr>\n",
       "\t<tr><th scope=row>5</th><td>Bahia</td><td>26.59</td><td>212.64</td><td>582.26</td><td>315.3</td><td>34.13</td><td>129.44</td><td>49</td><td>68.23</td><td>235.61</td></tr>\n",
       "\t<tr><th scope=row>6</th><td>Ceara</td><td>147.19</td><td>451.71</td><td>257.04</td><td>429.55</td><td>50.08</td><td>335.9</td><td>346.33</td><td>414.13</td><td>576.56</td></tr>\n",
       "\t<tr><th scope=row>7</th><td>Distrito Federal</td><td>8.82</td><td>75.28</td><td>147.49</td><td>40.55</td><td>11.48</td><td>16.63</td><td>21.77</td><td>46.88</td><td>45.48</td></tr>\n",
       "\t<tr><th scope=row>8</th><td>Espirito Santo</td><td>197.82</td><td>243.66</td><td>796.01</td><td>899.94</td><td>104.17</td><td>81.04</td><td>292.21</td><td>194.62</td><td>753.75</td></tr>\n",
       "\t<tr><th scope=row>9</th><td>Goias</td><td>29.86</td><td>210.42</td><td>421.6</td><td>161.5</td><td>106.07</td><td>335.4</td><td>424.45</td><td>257.52</td><td>605.95</td></tr>\n",
       "\t<tr><th scope=row>10</th><td>Maranhao</td><td>55.21</td><td>109.7</td><td>146.49</td><td>99.75</td><td>27.02</td><td>108.3</td><td>83.61</td><td>213.56</td><td>87.94</td></tr>\n",
       "\t<tr><th scope=row>11</th><td>Mato Grosso do Sul</td><td>224.83</td><td>447.17</td><td>568.85</td><td>97.57</td><td>15.47</td><td>28.48</td><td>538.56</td><td>2971.38</td><td>32.19</td></tr>\n",
       "\t<tr><th scope=row>12</th><td>Mato Grosso</td><td>62.65</td><td>101.48</td><td>356.62</td><td>357.03</td><td>87.15</td><td>245.03</td><td>348.55</td><td>564.59</td><td>222.81</td></tr>\n",
       "\t<tr><th scope=row>13</th><td>Minas Gerais</td><td>15.84</td><td>178.09</td><td>209.78</td><td>77.19</td><td>72.27</td><td>58.82</td><td>154.3</td><td>143.85</td><td>247.78</td></tr>\n",
       "\t<tr><th scope=row>14</th><td>Para</td><td>122.7</td><td>264.13</td><td>178.29</td><td>148.35</td><td>84.63</td><td>118.35</td><td>92.46</td><td>199.51</td><td>207.57</td></tr>\n",
       "\t<tr><th scope=row>15</th><td>Paraiba</td><td>35.08</td><td>431.12</td><td>536.27</td><td>361.99</td><td>38.31</td><td>166.36</td><td>85.17</td><td>296.83</td><td>208.14</td></tr>\n",
       "\t<tr><th scope=row>16</th><td>Parana</td><td>12.28</td><td>16.42</td><td>73.78</td><td>111.38</td><td>1.57</td><td>10.31</td><td>12.03</td><td>258.73</td><td>17.3</td></tr>\n",
       "\t<tr><th scope=row>17</th><td>Pernambuco</td><td>292.9</td><td>168.05</td><td>1235.28</td><td>186.08</td><td>27.99</td><td>66.32</td><td>103.34</td><td>262.17</td><td>210.84</td></tr>\n",
       "\t<tr><th scope=row>18</th><td>Piaui</td><td>216.83</td><td>359.11</td><td>304.88</td><td>325.1</td><td>29.39</td><td>150.65</td><td>158.35</td><td>315.19</td><td>74.81</td></tr>\n",
       "\t<tr><th scope=row>19</th><td>Rio de Janeiro</td><td>17.81</td><td>431.22</td><td>1691.58</td><td>37.25</td><td>8.2</td><td>9.13</td><td>171.07</td><td>367.03</td><td>1242.98</td></tr>\n",
       "\t<tr><th scope=row>20</th><td>Rio Grande do Norte</td><td>241.68</td><td>1330.46</td><td>764.83</td><td>718.86</td><td>90.78</td><td>160.53</td><td>275.42</td><td>432.22</td><td>916.58</td></tr>\n",
       "\t<tr><th scope=row>21</th><td>Rio Grande do Sul</td><td>0.17</td><td>0.63</td><td>4.24</td><td>0.54</td><td>0.21</td><td>0.39</td><td>0.64</td><td>3.84</td><td>1.2</td></tr>\n",
       "\t<tr><th scope=row>22</th><td>Rondonia</td><td>123.71</td><td>120.06</td><td>109.44</td><td>206.68</td><td>224.87</td><td>387.46</td><td>272.33</td><td>212.64</td><td>365.9</td></tr>\n",
       "\t<tr><th scope=row>23</th><td>Roraima</td><td>1265.12</td><td>1140.53</td><td>351.14</td><td>1390.14</td><td>153.2</td><td>602.84</td><td>251.89</td><td>212.15</td><td>1207.9</td></tr>\n",
       "\t<tr><th scope=row>24</th><td>Santa Catarina</td><td>0.34</td><td>0.79</td><td>5.25</td><td>1.05</td><td>0.28</td><td>0.82</td><td>1.02</td><td>2.51</td><td>1.55</td></tr>\n",
       "\t<tr><th scope=row>25</th><td>Sao Paulo</td><td>13.09</td><td>155.74</td><td>117.5</td><td>43.34</td><td>7.86</td><td>15.8</td><td>150.24</td><td>275.96</td><td>28.06</td></tr>\n",
       "\t<tr><th scope=row>26</th><td>Sergipe</td><td>315.39</td><td>195.22</td><td>286.72</td><td>255.04</td><td>22.54</td><td>34.2</td><td>57.48</td><td>73.87</td><td>1065.53</td></tr>\n",
       "\t<tr><th scope=row>27</th><td>Tocantins</td><td>58.85</td><td>417.55</td><td>163.88</td><td>153.23</td><td>120.26</td><td>257.17</td><td>445.8</td><td>949.38</td><td>778.75</td></tr>\n",
       "</tbody>\n",
       "</table>\n"
      ],
      "text/latex": [
       "\\begin{tabular}{r|llllllllll}\n",
       "  & UF & X2000 & X2001 & X2002 & X2003 & X2004 & X2005 & X2006 & X2007 & X2008\\\\\n",
       "\\hline\n",
       "\t1 & Acre & 267.97 & 354.98 & 151.97 & 161.51 & 727.66 & 345.53 & 39.61 & 75.06 & 313.64\\\\\n",
       "\t2 & Alagoas & 22.78 & 70.34 & 259.01 & 209.04 & 150.82 & 88.66 & 103.88 & 344.34 & 418.38\\\\\n",
       "\t3 & Amapa & NA & 642.17 & 166.11 & 755.37 & 458 & 430.55 & 300.3 & 562 & 194.89\\\\\n",
       "\t4 & Amazonas & 224.67 & 662.66 & 75.8 & 132.36 & 29.02 & 31.49 & 19.33 & 61.37 & 222.77\\\\\n",
       "\t5 & Bahia & 26.59 & 212.64 & 582.26 & 315.3 & 34.13 & 129.44 & 49 & 68.23 & 235.61\\\\\n",
       "\t6 & Ceara & 147.19 & 451.71 & 257.04 & 429.55 & 50.08 & 335.9 & 346.33 & 414.13 & 576.56\\\\\n",
       "\t7 & Distrito Federal & 8.82 & 75.28 & 147.49 & 40.55 & 11.48 & 16.63 & 21.77 & 46.88 & 45.48\\\\\n",
       "\t8 & Espirito Santo & 197.82 & 243.66 & 796.01 & 899.94 & 104.17 & 81.04 & 292.21 & 194.62 & 753.75\\\\\n",
       "\t9 & Goias & 29.86 & 210.42 & 421.6 & 161.5 & 106.07 & 335.4 & 424.45 & 257.52 & 605.95\\\\\n",
       "\t10 & Maranhao & 55.21 & 109.7 & 146.49 & 99.75 & 27.02 & 108.3 & 83.61 & 213.56 & 87.94\\\\\n",
       "\t11 & Mato Grosso do Sul & 224.83 & 447.17 & 568.85 & 97.57 & 15.47 & 28.48 & 538.56 & 2971.38 & 32.19\\\\\n",
       "\t12 & Mato Grosso & 62.65 & 101.48 & 356.62 & 357.03 & 87.15 & 245.03 & 348.55 & 564.59 & 222.81\\\\\n",
       "\t13 & Minas Gerais & 15.84 & 178.09 & 209.78 & 77.19 & 72.27 & 58.82 & 154.3 & 143.85 & 247.78\\\\\n",
       "\t14 & Para & 122.7 & 264.13 & 178.29 & 148.35 & 84.63 & 118.35 & 92.46 & 199.51 & 207.57\\\\\n",
       "\t15 & Paraiba & 35.08 & 431.12 & 536.27 & 361.99 & 38.31 & 166.36 & 85.17 & 296.83 & 208.14\\\\\n",
       "\t16 & Parana & 12.28 & 16.42 & 73.78 & 111.38 & 1.57 & 10.31 & 12.03 & 258.73 & 17.3\\\\\n",
       "\t17 & Pernambuco & 292.9 & 168.05 & 1235.28 & 186.08 & 27.99 & 66.32 & 103.34 & 262.17 & 210.84\\\\\n",
       "\t18 & Piaui & 216.83 & 359.11 & 304.88 & 325.1 & 29.39 & 150.65 & 158.35 & 315.19 & 74.81\\\\\n",
       "\t19 & Rio de Janeiro & 17.81 & 431.22 & 1691.58 & 37.25 & 8.2 & 9.13 & 171.07 & 367.03 & 1242.98\\\\\n",
       "\t20 & Rio Grande do Norte & 241.68 & 1330.46 & 764.83 & 718.86 & 90.78 & 160.53 & 275.42 & 432.22 & 916.58\\\\\n",
       "\t21 & Rio Grande do Sul & 0.17 & 0.63 & 4.24 & 0.54 & 0.21 & 0.39 & 0.64 & 3.84 & 1.2\\\\\n",
       "\t22 & Rondonia & 123.71 & 120.06 & 109.44 & 206.68 & 224.87 & 387.46 & 272.33 & 212.64 & 365.9\\\\\n",
       "\t23 & Roraima & 1265.12 & 1140.53 & 351.14 & 1390.14 & 153.2 & 602.84 & 251.89 & 212.15 & 1207.9\\\\\n",
       "\t24 & Santa Catarina & 0.34 & 0.79 & 5.25 & 1.05 & 0.28 & 0.82 & 1.02 & 2.51 & 1.55\\\\\n",
       "\t25 & Sao Paulo & 13.09 & 155.74 & 117.5 & 43.34 & 7.86 & 15.8 & 150.24 & 275.96 & 28.06\\\\\n",
       "\t26 & Sergipe & 315.39 & 195.22 & 286.72 & 255.04 & 22.54 & 34.2 & 57.48 & 73.87 & 1065.53\\\\\n",
       "\t27 & Tocantins & 58.85 & 417.55 & 163.88 & 153.23 & 120.26 & 257.17 & 445.8 & 949.38 & 778.75\\\\\n",
       "\\end{tabular}\n"
      ],
      "text/plain": [
       "                    UF   X2000   X2001   X2002   X2003  X2004  X2005  X2006\n",
       "1                 Acre  267.97  354.98  151.97  161.51 727.66 345.53  39.61\n",
       "2              Alagoas   22.78   70.34  259.01  209.04 150.82  88.66 103.88\n",
       "3                Amapa      NA  642.17  166.11  755.37 458.00 430.55 300.30\n",
       "4             Amazonas  224.67  662.66   75.80  132.36  29.02  31.49  19.33\n",
       "5                Bahia   26.59  212.64  582.26  315.30  34.13 129.44  49.00\n",
       "6                Ceara  147.19  451.71  257.04  429.55  50.08 335.90 346.33\n",
       "7     Distrito Federal    8.82   75.28  147.49   40.55  11.48  16.63  21.77\n",
       "8       Espirito Santo  197.82  243.66  796.01  899.94 104.17  81.04 292.21\n",
       "9                Goias   29.86  210.42  421.60  161.50 106.07 335.40 424.45\n",
       "10            Maranhao   55.21  109.70  146.49   99.75  27.02 108.30  83.61\n",
       "11  Mato Grosso do Sul  224.83  447.17  568.85   97.57  15.47  28.48 538.56\n",
       "12         Mato Grosso   62.65  101.48  356.62  357.03  87.15 245.03 348.55\n",
       "13        Minas Gerais   15.84  178.09  209.78   77.19  72.27  58.82 154.30\n",
       "14                Para  122.70  264.13  178.29  148.35  84.63 118.35  92.46\n",
       "15             Paraiba   35.08  431.12  536.27  361.99  38.31 166.36  85.17\n",
       "16              Parana   12.28   16.42   73.78  111.38   1.57  10.31  12.03\n",
       "17          Pernambuco  292.90  168.05 1235.28  186.08  27.99  66.32 103.34\n",
       "18               Piaui  216.83  359.11  304.88  325.10  29.39 150.65 158.35\n",
       "19      Rio de Janeiro   17.81  431.22 1691.58   37.25   8.20   9.13 171.07\n",
       "20 Rio Grande do Norte  241.68 1330.46  764.83  718.86  90.78 160.53 275.42\n",
       "21   Rio Grande do Sul    0.17    0.63    4.24    0.54   0.21   0.39   0.64\n",
       "22            Rondonia  123.71  120.06  109.44  206.68 224.87 387.46 272.33\n",
       "23             Roraima 1265.12 1140.53  351.14 1390.14 153.20 602.84 251.89\n",
       "24      Santa Catarina    0.34    0.79    5.25    1.05   0.28   0.82   1.02\n",
       "25           Sao Paulo   13.09  155.74  117.50   43.34   7.86  15.80 150.24\n",
       "26             Sergipe  315.39  195.22  286.72  255.04  22.54  34.20  57.48\n",
       "27           Tocantins   58.85  417.55  163.88  153.23 120.26 257.17 445.80\n",
       "     X2007   X2008\n",
       "1    75.06  313.64\n",
       "2   344.34  418.38\n",
       "3   562.00  194.89\n",
       "4    61.37  222.77\n",
       "5    68.23  235.61\n",
       "6   414.13  576.56\n",
       "7    46.88   45.48\n",
       "8   194.62  753.75\n",
       "9   257.52  605.95\n",
       "10  213.56   87.94\n",
       "11 2971.38   32.19\n",
       "12  564.59  222.81\n",
       "13  143.85  247.78\n",
       "14  199.51  207.57\n",
       "15  296.83  208.14\n",
       "16  258.73   17.30\n",
       "17  262.17  210.84\n",
       "18  315.19   74.81\n",
       "19  367.03 1242.98\n",
       "20  432.22  916.58\n",
       "21    3.84    1.20\n",
       "22  212.64  365.90\n",
       "23  212.15 1207.90\n",
       "24    2.51    1.55\n",
       "25  275.96   28.06\n",
       "26   73.87 1065.53\n",
       "27  949.38  778.75"
      ]
     },
     "execution_count": 4,
     "metadata": {},
     "output_type": "execute_result"
    }
   ],
   "source": [
    "# Excluindo dados dos anos 1990~1999 e a linha \"Total\"\n",
    "ddMerge <- merge(dengueDados, dengueDados) # O merge realizado foi apenas uma maneira de arrumar a coluna UF em ordem alfabética\n",
    "ddMerge <- ddMerge[ !ddMerge$UF %in% c(\"Total\"),!names(ddMerge) %in% c(\"X1990\", \"X1991\",\"X1992\", \"X1993\",\"X1994\", \n",
    "                                                                       \"X1995\", \"X1996\",\"X1997\",\"X1998\", \"X1999\")]\n",
    "dim(ddMerge)\n",
    "head(ddMerge, 27)"
   ]
  },
  {
   "cell_type": "code",
   "execution_count": 15,
   "metadata": {
    "collapsed": false
   },
   "outputs": [
    {
     "data": {
      "text/plain": [
       "ufs\n",
       "               Acre  Mato Grosso do Sul      Rio de Janeiro Rio Grande do Norte \n",
       "                  1                   2                   2                   1 \n",
       "            Roraima \n",
       "                  3 "
      ]
     },
     "execution_count": 15,
     "metadata": {},
     "output_type": "execute_result"
    }
   ],
   "source": [
    "# Achando maiores dados de incidência pra cada ano e a quantidade de vezes que cada Estado representa um máximo\n",
    "\n",
    "# Tentei usar for pra calcular valor máximo por coluna, variando o próprio nome de cada coluna em i.\n",
    "# Não obtive resultado algum com minha tentativa.\n",
    "#ddColumn <- ddMerge[ ,!names(ddMerge) %in% c(\"UF\")]\n",
    "#for (i in names(ddColumn)) {\n",
    "\n",
    "#    maxValue <- subset(ddMerge, ddMerge[[i]] == max(ddMerge[[i]], na.rm=T))\n",
    "#    maxValue$UF\n",
    "#}\n",
    "\n",
    "max2000 <- subset(ddMerge, ddMerge$X2000 == max(ddMerge$X2000, na.rm=T))\n",
    "max2001 <- subset(ddMerge, ddMerge$X2001 == max(ddMerge$X2001, na.rm=T))\n",
    "max2002 <- subset(ddMerge, ddMerge$X2002 == max(ddMerge$X2002, na.rm=T))\n",
    "max2003 <- subset(ddMerge, ddMerge$X2003 == max(ddMerge$X2003, na.rm=T))\n",
    "max2004 <- subset(ddMerge, ddMerge$X2004 == max(ddMerge$X2004, na.rm=T))\n",
    "max2005 <- subset(ddMerge, ddMerge$X2005 == max(ddMerge$X2005, na.rm=T))\n",
    "max2006 <- subset(ddMerge, ddMerge$X2006 == max(ddMerge$X2006, na.rm=T))\n",
    "max2007 <- subset(ddMerge, ddMerge$X2007 == max(ddMerge$X2007, na.rm=T))\n",
    "max2008 <- subset(ddMerge, ddMerge$X2008 == max(ddMerge$X2008, na.rm=T))\n",
    "\n",
    "\n",
    "ufs <- factor(c(toString(max2000$UF), toString(max2001$UF), toString(max2002$UF), toString(max2003$UF), toString(max2004$UF), \n",
    "                toString(max2005$UF), toString(max2006$UF), toString(max2007$UF), toString(max2008$UF)))\n",
    "table(ufs)"
   ]
  },
  {
   "cell_type": "code",
   "execution_count": null,
   "metadata": {
    "collapsed": true
   },
   "outputs": [],
   "source": [
    "# Com esses resultados, vejo que Roraima, Mato Grosso do Sul e Rio de Janeiro são fortes candidatos a\n",
    "# estados ideais para mandar as equipes e combater a futura proliferação da doença."
   ]
  },
  {
   "cell_type": "code",
   "execution_count": null,
   "metadata": {
    "collapsed": false
   },
   "outputs": [],
   "source": []
  },
  {
   "cell_type": "code",
   "execution_count": null,
   "metadata": {
    "collapsed": true
   },
   "outputs": [],
   "source": []
  },
  {
   "cell_type": "code",
   "execution_count": null,
   "metadata": {
    "collapsed": true
   },
   "outputs": [],
   "source": [
    "# Questão 2\n",
    "# Responder (e justificar a resposta com números e gráficos) a seguinte pergunta: Há correlação entre incidência de dengue e\n",
    "# renda nas UFs?\"\n",
    "#\n",
    "#########################################################################################################\n",
    "#\n",
    "# Usando a tabela 1860 do link http://www.sidra.ibge.gov.br/pnad/pnadpb.asp e o pdf contendo daados da dengue em \n",
    "# http://portalsaude.saude.gov.br/images/pdf/2015/julho/29/Dengue-at---2014.pdf"
   ]
  },
  {
   "cell_type": "code",
   "execution_count": 8,
   "metadata": {
    "collapsed": false
   },
   "outputs": [
    {
     "name": "stderr",
     "output_type": "stream",
     "text": [
      "Warning message:\n",
      ": unable to access index for repository http://cran.r-project.org/web/packages/XML/bin/windows/contrib/3.1Warning message:\n",
      ": package 'XML' is not available (as a binary package for R version 3.1.3)"
     ]
    }
   ],
   "source": [
    "# Usarei o pacote XML para puxar a tabela do link - OBS.: linha de instalação comentada para evitar acidentes indesejados...\n",
    "install.packages(\"XML\", repos='http://cran.r-project.org/web/packages/XML/', lib=\"C:/Users/NinoFabrizio/Anaconda3/R/library\")\n",
    "#library(\"xml)"
   ]
  },
  {
   "cell_type": "code",
   "execution_count": 1,
   "metadata": {
    "collapsed": true
   },
   "outputs": [],
   "source": [
    "sUrl = \"http://www.sidra.ibge.gov.br/bda/tabela/protabl.asp?c=1860&i=P&nome=on&notarodape=on&tab=1860&sec12021=106827&unit=0&pov=1&poc2=1&opc1=1&OpcTipoNivt=1&opn1=2&nivt=0&poc1=1&orp=6&qtu3=27&opv=1&opc2=1&sec1=6795&pop=3&opn2=0&orv=2&orc2=3&qtu2=5&sev=140&sec2=6794&opp=1&opn3=2&orc1=4&qtu1=1&cabec=on&opc12021=1&poc12021=1&opn7=0&decm=99&orc12021=5&ascendente=on&sep=56598&sep=48369&sep=45350&sep=37717&sep=17805&sep=43354&sep=39669&sep=34905&sep=33418&sep=31098&sep=27950&sep=25310&sep=22669&orn=1&qtu7=9&pon=2&OpcCara=44&proc=1\""
   ]
  },
  {
   "cell_type": "code",
   "execution_count": null,
   "metadata": {
    "collapsed": true
   },
   "outputs": [],
   "source": []
  }
 ],
 "metadata": {
  "kernelspec": {
   "display_name": "R",
   "language": "R",
   "name": "ir"
  },
  "language_info": {
   "codemirror_mode": "r",
   "file_extension": ".r",
   "mimetype": "text/x-r-source",
   "name": "R",
   "pygments_lexer": "r",
   "version": "3.1.3"
  }
 },
 "nbformat": 4,
 "nbformat_minor": 0
}
